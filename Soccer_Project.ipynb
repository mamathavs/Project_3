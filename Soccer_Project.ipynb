{
 "cells": [
  {
   "cell_type": "code",
   "execution_count": 2,
   "metadata": {},
   "outputs": [],
   "source": [
    "import numpy as np\n",
    "import pandas as pd\n",
    "%matplotlib notebook\n",
    "import matplotlib.pyplot as plt\n",
    "import xgboost as xgb\n",
    "from xgboost.sklearn import XGBRegressor\n",
    "from xgboost import plot_importance\n",
    "\n",
    "from sklearn.linear_model import LinearRegression\n",
    "from sklearn.tree import DecisionTreeRegressor\n",
    "from sklearn.ensemble import RandomForestRegressor\n",
    "from sklearn.preprocessing import Imputer, StandardScaler\n",
    "from sklearn.feature_selection import SelectFromModel\n",
    "from sklearn.model_selection import train_test_split, GridSearchCV, ShuffleSplit, RandomizedSearchCV\n",
    "from sklearn.pipeline import make_pipeline\n",
    "\n",
    "import pickle\n",
    "\n",
    "import warnings\n",
    "warnings.filterwarnings(\"ignore\")"
   ]
  },
  {
   "cell_type": "code",
   "execution_count": 3,
   "metadata": {},
   "outputs": [],
   "source": [
    "import sqlite3"
   ]
  },
  {
   "cell_type": "code",
   "execution_count": 4,
   "metadata": {},
   "outputs": [],
   "source": [
    "cnx = sqlite3.connect('database.sqlite')"
   ]
  },
  {
   "cell_type": "code",
   "execution_count": 5,
   "metadata": {},
   "outputs": [],
   "source": [
    "dt = pd.read_sql_query(\"SELECT name FROM sqlite_master WHERE type='table'\", cnx)"
   ]
  },
  {
   "cell_type": "code",
   "execution_count": 6,
   "metadata": {},
   "outputs": [
    {
     "name": "stdout",
     "output_type": "stream",
     "text": [
      "                name\n",
      "0    sqlite_sequence\n",
      "1  Player_Attributes\n",
      "2             Player\n",
      "3              Match\n",
      "4             League\n",
      "5            Country\n",
      "6               Team\n",
      "7    Team_Attributes\n"
     ]
    }
   ],
   "source": [
    "print(dt)"
   ]
  },
  {
   "cell_type": "code",
   "execution_count": 7,
   "metadata": {},
   "outputs": [],
   "source": [
    "df = pd.read_sql_query(\"SELECT * FROM Player_Attributes\", cnx)"
   ]
  },
  {
   "cell_type": "code",
   "execution_count": 8,
   "metadata": {},
   "outputs": [
    {
     "data": {
      "text/html": [
       "<div>\n",
       "<style scoped>\n",
       "    .dataframe tbody tr th:only-of-type {\n",
       "        vertical-align: middle;\n",
       "    }\n",
       "\n",
       "    .dataframe tbody tr th {\n",
       "        vertical-align: top;\n",
       "    }\n",
       "\n",
       "    .dataframe thead th {\n",
       "        text-align: right;\n",
       "    }\n",
       "</style>\n",
       "<table border=\"1\" class=\"dataframe\">\n",
       "  <thead>\n",
       "    <tr style=\"text-align: right;\">\n",
       "      <th></th>\n",
       "      <th>id</th>\n",
       "      <th>player_fifa_api_id</th>\n",
       "      <th>player_api_id</th>\n",
       "      <th>date</th>\n",
       "      <th>overall_rating</th>\n",
       "      <th>potential</th>\n",
       "      <th>preferred_foot</th>\n",
       "      <th>attacking_work_rate</th>\n",
       "      <th>defensive_work_rate</th>\n",
       "      <th>crossing</th>\n",
       "      <th>...</th>\n",
       "      <th>vision</th>\n",
       "      <th>penalties</th>\n",
       "      <th>marking</th>\n",
       "      <th>standing_tackle</th>\n",
       "      <th>sliding_tackle</th>\n",
       "      <th>gk_diving</th>\n",
       "      <th>gk_handling</th>\n",
       "      <th>gk_kicking</th>\n",
       "      <th>gk_positioning</th>\n",
       "      <th>gk_reflexes</th>\n",
       "    </tr>\n",
       "  </thead>\n",
       "  <tbody>\n",
       "    <tr>\n",
       "      <th>0</th>\n",
       "      <td>1</td>\n",
       "      <td>218353</td>\n",
       "      <td>505942</td>\n",
       "      <td>2016-02-18 00:00:00</td>\n",
       "      <td>67.0</td>\n",
       "      <td>71.0</td>\n",
       "      <td>right</td>\n",
       "      <td>medium</td>\n",
       "      <td>medium</td>\n",
       "      <td>49.0</td>\n",
       "      <td>...</td>\n",
       "      <td>54.0</td>\n",
       "      <td>48.0</td>\n",
       "      <td>65.0</td>\n",
       "      <td>69.0</td>\n",
       "      <td>69.0</td>\n",
       "      <td>6.0</td>\n",
       "      <td>11.0</td>\n",
       "      <td>10.0</td>\n",
       "      <td>8.0</td>\n",
       "      <td>8.0</td>\n",
       "    </tr>\n",
       "    <tr>\n",
       "      <th>1</th>\n",
       "      <td>2</td>\n",
       "      <td>218353</td>\n",
       "      <td>505942</td>\n",
       "      <td>2015-11-19 00:00:00</td>\n",
       "      <td>67.0</td>\n",
       "      <td>71.0</td>\n",
       "      <td>right</td>\n",
       "      <td>medium</td>\n",
       "      <td>medium</td>\n",
       "      <td>49.0</td>\n",
       "      <td>...</td>\n",
       "      <td>54.0</td>\n",
       "      <td>48.0</td>\n",
       "      <td>65.0</td>\n",
       "      <td>69.0</td>\n",
       "      <td>69.0</td>\n",
       "      <td>6.0</td>\n",
       "      <td>11.0</td>\n",
       "      <td>10.0</td>\n",
       "      <td>8.0</td>\n",
       "      <td>8.0</td>\n",
       "    </tr>\n",
       "    <tr>\n",
       "      <th>2</th>\n",
       "      <td>3</td>\n",
       "      <td>218353</td>\n",
       "      <td>505942</td>\n",
       "      <td>2015-09-21 00:00:00</td>\n",
       "      <td>62.0</td>\n",
       "      <td>66.0</td>\n",
       "      <td>right</td>\n",
       "      <td>medium</td>\n",
       "      <td>medium</td>\n",
       "      <td>49.0</td>\n",
       "      <td>...</td>\n",
       "      <td>54.0</td>\n",
       "      <td>48.0</td>\n",
       "      <td>65.0</td>\n",
       "      <td>66.0</td>\n",
       "      <td>69.0</td>\n",
       "      <td>6.0</td>\n",
       "      <td>11.0</td>\n",
       "      <td>10.0</td>\n",
       "      <td>8.0</td>\n",
       "      <td>8.0</td>\n",
       "    </tr>\n",
       "    <tr>\n",
       "      <th>3</th>\n",
       "      <td>4</td>\n",
       "      <td>218353</td>\n",
       "      <td>505942</td>\n",
       "      <td>2015-03-20 00:00:00</td>\n",
       "      <td>61.0</td>\n",
       "      <td>65.0</td>\n",
       "      <td>right</td>\n",
       "      <td>medium</td>\n",
       "      <td>medium</td>\n",
       "      <td>48.0</td>\n",
       "      <td>...</td>\n",
       "      <td>53.0</td>\n",
       "      <td>47.0</td>\n",
       "      <td>62.0</td>\n",
       "      <td>63.0</td>\n",
       "      <td>66.0</td>\n",
       "      <td>5.0</td>\n",
       "      <td>10.0</td>\n",
       "      <td>9.0</td>\n",
       "      <td>7.0</td>\n",
       "      <td>7.0</td>\n",
       "    </tr>\n",
       "    <tr>\n",
       "      <th>4</th>\n",
       "      <td>5</td>\n",
       "      <td>218353</td>\n",
       "      <td>505942</td>\n",
       "      <td>2007-02-22 00:00:00</td>\n",
       "      <td>61.0</td>\n",
       "      <td>65.0</td>\n",
       "      <td>right</td>\n",
       "      <td>medium</td>\n",
       "      <td>medium</td>\n",
       "      <td>48.0</td>\n",
       "      <td>...</td>\n",
       "      <td>53.0</td>\n",
       "      <td>47.0</td>\n",
       "      <td>62.0</td>\n",
       "      <td>63.0</td>\n",
       "      <td>66.0</td>\n",
       "      <td>5.0</td>\n",
       "      <td>10.0</td>\n",
       "      <td>9.0</td>\n",
       "      <td>7.0</td>\n",
       "      <td>7.0</td>\n",
       "    </tr>\n",
       "  </tbody>\n",
       "</table>\n",
       "<p>5 rows × 42 columns</p>\n",
       "</div>"
      ],
      "text/plain": [
       "   id  player_fifa_api_id  player_api_id                 date  overall_rating  \\\n",
       "0   1              218353         505942  2016-02-18 00:00:00            67.0   \n",
       "1   2              218353         505942  2015-11-19 00:00:00            67.0   \n",
       "2   3              218353         505942  2015-09-21 00:00:00            62.0   \n",
       "3   4              218353         505942  2015-03-20 00:00:00            61.0   \n",
       "4   5              218353         505942  2007-02-22 00:00:00            61.0   \n",
       "\n",
       "   potential preferred_foot attacking_work_rate defensive_work_rate  crossing  \\\n",
       "0       71.0          right              medium              medium      49.0   \n",
       "1       71.0          right              medium              medium      49.0   \n",
       "2       66.0          right              medium              medium      49.0   \n",
       "3       65.0          right              medium              medium      48.0   \n",
       "4       65.0          right              medium              medium      48.0   \n",
       "\n",
       "      ...       vision  penalties  marking  standing_tackle  sliding_tackle  \\\n",
       "0     ...         54.0       48.0     65.0             69.0            69.0   \n",
       "1     ...         54.0       48.0     65.0             69.0            69.0   \n",
       "2     ...         54.0       48.0     65.0             66.0            69.0   \n",
       "3     ...         53.0       47.0     62.0             63.0            66.0   \n",
       "4     ...         53.0       47.0     62.0             63.0            66.0   \n",
       "\n",
       "   gk_diving  gk_handling  gk_kicking  gk_positioning  gk_reflexes  \n",
       "0        6.0         11.0        10.0             8.0          8.0  \n",
       "1        6.0         11.0        10.0             8.0          8.0  \n",
       "2        6.0         11.0        10.0             8.0          8.0  \n",
       "3        5.0         10.0         9.0             7.0          7.0  \n",
       "4        5.0         10.0         9.0             7.0          7.0  \n",
       "\n",
       "[5 rows x 42 columns]"
      ]
     },
     "execution_count": 8,
     "metadata": {},
     "output_type": "execute_result"
    }
   ],
   "source": [
    "df.head()"
   ]
  },
  {
   "cell_type": "markdown",
   "metadata": {},
   "source": [
    "Extracting Target column below"
   ]
  },
  {
   "cell_type": "code",
   "execution_count": 9,
   "metadata": {},
   "outputs": [],
   "source": [
    "target = df.pop('overall_rating')"
   ]
  },
  {
   "cell_type": "code",
   "execution_count": 10,
   "metadata": {},
   "outputs": [
    {
     "data": {
      "text/plain": [
       "(183978, 41)"
      ]
     },
     "execution_count": 10,
     "metadata": {},
     "output_type": "execute_result"
    }
   ],
   "source": [
    "df.shape"
   ]
  },
  {
   "cell_type": "code",
   "execution_count": 11,
   "metadata": {},
   "outputs": [
    {
     "data": {
      "text/plain": [
       "0    67.0\n",
       "1    67.0\n",
       "2    62.0\n",
       "3    61.0\n",
       "4    61.0\n",
       "Name: overall_rating, dtype: float64"
      ]
     },
     "execution_count": 11,
     "metadata": {},
     "output_type": "execute_result"
    }
   ],
   "source": [
    "target.head()"
   ]
  },
  {
   "cell_type": "markdown",
   "metadata": {},
   "source": [
    "### Imputing target funtion :"
   ]
  },
  {
   "cell_type": "code",
   "execution_count": 12,
   "metadata": {},
   "outputs": [
    {
     "data": {
      "text/plain": [
       "836"
      ]
     },
     "execution_count": 12,
     "metadata": {},
     "output_type": "execute_result"
    }
   ],
   "source": [
    "target.isnull().values.sum()"
   ]
  },
  {
   "cell_type": "markdown",
   "metadata": {},
   "source": [
    "there are 836 missing value present in target function."
   ]
  },
  {
   "cell_type": "code",
   "execution_count": 13,
   "metadata": {},
   "outputs": [
    {
     "data": {
      "text/plain": [
       "count    183142.000000\n",
       "mean         68.600015\n",
       "std           7.041139\n",
       "min          33.000000\n",
       "25%          64.000000\n",
       "50%          69.000000\n",
       "75%          73.000000\n",
       "max          94.000000\n",
       "Name: overall_rating, dtype: float64"
      ]
     },
     "execution_count": 13,
     "metadata": {},
     "output_type": "execute_result"
    }
   ],
   "source": [
    "target.describe()"
   ]
  },
  {
   "cell_type": "code",
   "execution_count": 14,
   "metadata": {},
   "outputs": [
    {
     "data": {
      "application/javascript": [
       "/* Put everything inside the global mpl namespace */\n",
       "window.mpl = {};\n",
       "\n",
       "\n",
       "mpl.get_websocket_type = function() {\n",
       "    if (typeof(WebSocket) !== 'undefined') {\n",
       "        return WebSocket;\n",
       "    } else if (typeof(MozWebSocket) !== 'undefined') {\n",
       "        return MozWebSocket;\n",
       "    } else {\n",
       "        alert('Your browser does not have WebSocket support.' +\n",
       "              'Please try Chrome, Safari or Firefox ≥ 6. ' +\n",
       "              'Firefox 4 and 5 are also supported but you ' +\n",
       "              'have to enable WebSockets in about:config.');\n",
       "    };\n",
       "}\n",
       "\n",
       "mpl.figure = function(figure_id, websocket, ondownload, parent_element) {\n",
       "    this.id = figure_id;\n",
       "\n",
       "    this.ws = websocket;\n",
       "\n",
       "    this.supports_binary = (this.ws.binaryType != undefined);\n",
       "\n",
       "    if (!this.supports_binary) {\n",
       "        var warnings = document.getElementById(\"mpl-warnings\");\n",
       "        if (warnings) {\n",
       "            warnings.style.display = 'block';\n",
       "            warnings.textContent = (\n",
       "                \"This browser does not support binary websocket messages. \" +\n",
       "                    \"Performance may be slow.\");\n",
       "        }\n",
       "    }\n",
       "\n",
       "    this.imageObj = new Image();\n",
       "\n",
       "    this.context = undefined;\n",
       "    this.message = undefined;\n",
       "    this.canvas = undefined;\n",
       "    this.rubberband_canvas = undefined;\n",
       "    this.rubberband_context = undefined;\n",
       "    this.format_dropdown = undefined;\n",
       "\n",
       "    this.image_mode = 'full';\n",
       "\n",
       "    this.root = $('<div/>');\n",
       "    this._root_extra_style(this.root)\n",
       "    this.root.attr('style', 'display: inline-block');\n",
       "\n",
       "    $(parent_element).append(this.root);\n",
       "\n",
       "    this._init_header(this);\n",
       "    this._init_canvas(this);\n",
       "    this._init_toolbar(this);\n",
       "\n",
       "    var fig = this;\n",
       "\n",
       "    this.waiting = false;\n",
       "\n",
       "    this.ws.onopen =  function () {\n",
       "            fig.send_message(\"supports_binary\", {value: fig.supports_binary});\n",
       "            fig.send_message(\"send_image_mode\", {});\n",
       "            if (mpl.ratio != 1) {\n",
       "                fig.send_message(\"set_dpi_ratio\", {'dpi_ratio': mpl.ratio});\n",
       "            }\n",
       "            fig.send_message(\"refresh\", {});\n",
       "        }\n",
       "\n",
       "    this.imageObj.onload = function() {\n",
       "            if (fig.image_mode == 'full') {\n",
       "                // Full images could contain transparency (where diff images\n",
       "                // almost always do), so we need to clear the canvas so that\n",
       "                // there is no ghosting.\n",
       "                fig.context.clearRect(0, 0, fig.canvas.width, fig.canvas.height);\n",
       "            }\n",
       "            fig.context.drawImage(fig.imageObj, 0, 0);\n",
       "        };\n",
       "\n",
       "    this.imageObj.onunload = function() {\n",
       "        fig.ws.close();\n",
       "    }\n",
       "\n",
       "    this.ws.onmessage = this._make_on_message_function(this);\n",
       "\n",
       "    this.ondownload = ondownload;\n",
       "}\n",
       "\n",
       "mpl.figure.prototype._init_header = function() {\n",
       "    var titlebar = $(\n",
       "        '<div class=\"ui-dialog-titlebar ui-widget-header ui-corner-all ' +\n",
       "        'ui-helper-clearfix\"/>');\n",
       "    var titletext = $(\n",
       "        '<div class=\"ui-dialog-title\" style=\"width: 100%; ' +\n",
       "        'text-align: center; padding: 3px;\"/>');\n",
       "    titlebar.append(titletext)\n",
       "    this.root.append(titlebar);\n",
       "    this.header = titletext[0];\n",
       "}\n",
       "\n",
       "\n",
       "\n",
       "mpl.figure.prototype._canvas_extra_style = function(canvas_div) {\n",
       "\n",
       "}\n",
       "\n",
       "\n",
       "mpl.figure.prototype._root_extra_style = function(canvas_div) {\n",
       "\n",
       "}\n",
       "\n",
       "mpl.figure.prototype._init_canvas = function() {\n",
       "    var fig = this;\n",
       "\n",
       "    var canvas_div = $('<div/>');\n",
       "\n",
       "    canvas_div.attr('style', 'position: relative; clear: both; outline: 0');\n",
       "\n",
       "    function canvas_keyboard_event(event) {\n",
       "        return fig.key_event(event, event['data']);\n",
       "    }\n",
       "\n",
       "    canvas_div.keydown('key_press', canvas_keyboard_event);\n",
       "    canvas_div.keyup('key_release', canvas_keyboard_event);\n",
       "    this.canvas_div = canvas_div\n",
       "    this._canvas_extra_style(canvas_div)\n",
       "    this.root.append(canvas_div);\n",
       "\n",
       "    var canvas = $('<canvas/>');\n",
       "    canvas.addClass('mpl-canvas');\n",
       "    canvas.attr('style', \"left: 0; top: 0; z-index: 0; outline: 0\")\n",
       "\n",
       "    this.canvas = canvas[0];\n",
       "    this.context = canvas[0].getContext(\"2d\");\n",
       "\n",
       "    var backingStore = this.context.backingStorePixelRatio ||\n",
       "\tthis.context.webkitBackingStorePixelRatio ||\n",
       "\tthis.context.mozBackingStorePixelRatio ||\n",
       "\tthis.context.msBackingStorePixelRatio ||\n",
       "\tthis.context.oBackingStorePixelRatio ||\n",
       "\tthis.context.backingStorePixelRatio || 1;\n",
       "\n",
       "    mpl.ratio = (window.devicePixelRatio || 1) / backingStore;\n",
       "\n",
       "    var rubberband = $('<canvas/>');\n",
       "    rubberband.attr('style', \"position: absolute; left: 0; top: 0; z-index: 1;\")\n",
       "\n",
       "    var pass_mouse_events = true;\n",
       "\n",
       "    canvas_div.resizable({\n",
       "        start: function(event, ui) {\n",
       "            pass_mouse_events = false;\n",
       "        },\n",
       "        resize: function(event, ui) {\n",
       "            fig.request_resize(ui.size.width, ui.size.height);\n",
       "        },\n",
       "        stop: function(event, ui) {\n",
       "            pass_mouse_events = true;\n",
       "            fig.request_resize(ui.size.width, ui.size.height);\n",
       "        },\n",
       "    });\n",
       "\n",
       "    function mouse_event_fn(event) {\n",
       "        if (pass_mouse_events)\n",
       "            return fig.mouse_event(event, event['data']);\n",
       "    }\n",
       "\n",
       "    rubberband.mousedown('button_press', mouse_event_fn);\n",
       "    rubberband.mouseup('button_release', mouse_event_fn);\n",
       "    // Throttle sequential mouse events to 1 every 20ms.\n",
       "    rubberband.mousemove('motion_notify', mouse_event_fn);\n",
       "\n",
       "    rubberband.mouseenter('figure_enter', mouse_event_fn);\n",
       "    rubberband.mouseleave('figure_leave', mouse_event_fn);\n",
       "\n",
       "    canvas_div.on(\"wheel\", function (event) {\n",
       "        event = event.originalEvent;\n",
       "        event['data'] = 'scroll'\n",
       "        if (event.deltaY < 0) {\n",
       "            event.step = 1;\n",
       "        } else {\n",
       "            event.step = -1;\n",
       "        }\n",
       "        mouse_event_fn(event);\n",
       "    });\n",
       "\n",
       "    canvas_div.append(canvas);\n",
       "    canvas_div.append(rubberband);\n",
       "\n",
       "    this.rubberband = rubberband;\n",
       "    this.rubberband_canvas = rubberband[0];\n",
       "    this.rubberband_context = rubberband[0].getContext(\"2d\");\n",
       "    this.rubberband_context.strokeStyle = \"#000000\";\n",
       "\n",
       "    this._resize_canvas = function(width, height) {\n",
       "        // Keep the size of the canvas, canvas container, and rubber band\n",
       "        // canvas in synch.\n",
       "        canvas_div.css('width', width)\n",
       "        canvas_div.css('height', height)\n",
       "\n",
       "        canvas.attr('width', width * mpl.ratio);\n",
       "        canvas.attr('height', height * mpl.ratio);\n",
       "        canvas.attr('style', 'width: ' + width + 'px; height: ' + height + 'px;');\n",
       "\n",
       "        rubberband.attr('width', width);\n",
       "        rubberband.attr('height', height);\n",
       "    }\n",
       "\n",
       "    // Set the figure to an initial 600x600px, this will subsequently be updated\n",
       "    // upon first draw.\n",
       "    this._resize_canvas(600, 600);\n",
       "\n",
       "    // Disable right mouse context menu.\n",
       "    $(this.rubberband_canvas).bind(\"contextmenu\",function(e){\n",
       "        return false;\n",
       "    });\n",
       "\n",
       "    function set_focus () {\n",
       "        canvas.focus();\n",
       "        canvas_div.focus();\n",
       "    }\n",
       "\n",
       "    window.setTimeout(set_focus, 100);\n",
       "}\n",
       "\n",
       "mpl.figure.prototype._init_toolbar = function() {\n",
       "    var fig = this;\n",
       "\n",
       "    var nav_element = $('<div/>')\n",
       "    nav_element.attr('style', 'width: 100%');\n",
       "    this.root.append(nav_element);\n",
       "\n",
       "    // Define a callback function for later on.\n",
       "    function toolbar_event(event) {\n",
       "        return fig.toolbar_button_onclick(event['data']);\n",
       "    }\n",
       "    function toolbar_mouse_event(event) {\n",
       "        return fig.toolbar_button_onmouseover(event['data']);\n",
       "    }\n",
       "\n",
       "    for(var toolbar_ind in mpl.toolbar_items) {\n",
       "        var name = mpl.toolbar_items[toolbar_ind][0];\n",
       "        var tooltip = mpl.toolbar_items[toolbar_ind][1];\n",
       "        var image = mpl.toolbar_items[toolbar_ind][2];\n",
       "        var method_name = mpl.toolbar_items[toolbar_ind][3];\n",
       "\n",
       "        if (!name) {\n",
       "            // put a spacer in here.\n",
       "            continue;\n",
       "        }\n",
       "        var button = $('<button/>');\n",
       "        button.addClass('ui-button ui-widget ui-state-default ui-corner-all ' +\n",
       "                        'ui-button-icon-only');\n",
       "        button.attr('role', 'button');\n",
       "        button.attr('aria-disabled', 'false');\n",
       "        button.click(method_name, toolbar_event);\n",
       "        button.mouseover(tooltip, toolbar_mouse_event);\n",
       "\n",
       "        var icon_img = $('<span/>');\n",
       "        icon_img.addClass('ui-button-icon-primary ui-icon');\n",
       "        icon_img.addClass(image);\n",
       "        icon_img.addClass('ui-corner-all');\n",
       "\n",
       "        var tooltip_span = $('<span/>');\n",
       "        tooltip_span.addClass('ui-button-text');\n",
       "        tooltip_span.html(tooltip);\n",
       "\n",
       "        button.append(icon_img);\n",
       "        button.append(tooltip_span);\n",
       "\n",
       "        nav_element.append(button);\n",
       "    }\n",
       "\n",
       "    var fmt_picker_span = $('<span/>');\n",
       "\n",
       "    var fmt_picker = $('<select/>');\n",
       "    fmt_picker.addClass('mpl-toolbar-option ui-widget ui-widget-content');\n",
       "    fmt_picker_span.append(fmt_picker);\n",
       "    nav_element.append(fmt_picker_span);\n",
       "    this.format_dropdown = fmt_picker[0];\n",
       "\n",
       "    for (var ind in mpl.extensions) {\n",
       "        var fmt = mpl.extensions[ind];\n",
       "        var option = $(\n",
       "            '<option/>', {selected: fmt === mpl.default_extension}).html(fmt);\n",
       "        fmt_picker.append(option)\n",
       "    }\n",
       "\n",
       "    // Add hover states to the ui-buttons\n",
       "    $( \".ui-button\" ).hover(\n",
       "        function() { $(this).addClass(\"ui-state-hover\");},\n",
       "        function() { $(this).removeClass(\"ui-state-hover\");}\n",
       "    );\n",
       "\n",
       "    var status_bar = $('<span class=\"mpl-message\"/>');\n",
       "    nav_element.append(status_bar);\n",
       "    this.message = status_bar[0];\n",
       "}\n",
       "\n",
       "mpl.figure.prototype.request_resize = function(x_pixels, y_pixels) {\n",
       "    // Request matplotlib to resize the figure. Matplotlib will then trigger a resize in the client,\n",
       "    // which will in turn request a refresh of the image.\n",
       "    this.send_message('resize', {'width': x_pixels, 'height': y_pixels});\n",
       "}\n",
       "\n",
       "mpl.figure.prototype.send_message = function(type, properties) {\n",
       "    properties['type'] = type;\n",
       "    properties['figure_id'] = this.id;\n",
       "    this.ws.send(JSON.stringify(properties));\n",
       "}\n",
       "\n",
       "mpl.figure.prototype.send_draw_message = function() {\n",
       "    if (!this.waiting) {\n",
       "        this.waiting = true;\n",
       "        this.ws.send(JSON.stringify({type: \"draw\", figure_id: this.id}));\n",
       "    }\n",
       "}\n",
       "\n",
       "\n",
       "mpl.figure.prototype.handle_save = function(fig, msg) {\n",
       "    var format_dropdown = fig.format_dropdown;\n",
       "    var format = format_dropdown.options[format_dropdown.selectedIndex].value;\n",
       "    fig.ondownload(fig, format);\n",
       "}\n",
       "\n",
       "\n",
       "mpl.figure.prototype.handle_resize = function(fig, msg) {\n",
       "    var size = msg['size'];\n",
       "    if (size[0] != fig.canvas.width || size[1] != fig.canvas.height) {\n",
       "        fig._resize_canvas(size[0], size[1]);\n",
       "        fig.send_message(\"refresh\", {});\n",
       "    };\n",
       "}\n",
       "\n",
       "mpl.figure.prototype.handle_rubberband = function(fig, msg) {\n",
       "    var x0 = msg['x0'] / mpl.ratio;\n",
       "    var y0 = (fig.canvas.height - msg['y0']) / mpl.ratio;\n",
       "    var x1 = msg['x1'] / mpl.ratio;\n",
       "    var y1 = (fig.canvas.height - msg['y1']) / mpl.ratio;\n",
       "    x0 = Math.floor(x0) + 0.5;\n",
       "    y0 = Math.floor(y0) + 0.5;\n",
       "    x1 = Math.floor(x1) + 0.5;\n",
       "    y1 = Math.floor(y1) + 0.5;\n",
       "    var min_x = Math.min(x0, x1);\n",
       "    var min_y = Math.min(y0, y1);\n",
       "    var width = Math.abs(x1 - x0);\n",
       "    var height = Math.abs(y1 - y0);\n",
       "\n",
       "    fig.rubberband_context.clearRect(\n",
       "        0, 0, fig.canvas.width, fig.canvas.height);\n",
       "\n",
       "    fig.rubberband_context.strokeRect(min_x, min_y, width, height);\n",
       "}\n",
       "\n",
       "mpl.figure.prototype.handle_figure_label = function(fig, msg) {\n",
       "    // Updates the figure title.\n",
       "    fig.header.textContent = msg['label'];\n",
       "}\n",
       "\n",
       "mpl.figure.prototype.handle_cursor = function(fig, msg) {\n",
       "    var cursor = msg['cursor'];\n",
       "    switch(cursor)\n",
       "    {\n",
       "    case 0:\n",
       "        cursor = 'pointer';\n",
       "        break;\n",
       "    case 1:\n",
       "        cursor = 'default';\n",
       "        break;\n",
       "    case 2:\n",
       "        cursor = 'crosshair';\n",
       "        break;\n",
       "    case 3:\n",
       "        cursor = 'move';\n",
       "        break;\n",
       "    }\n",
       "    fig.rubberband_canvas.style.cursor = cursor;\n",
       "}\n",
       "\n",
       "mpl.figure.prototype.handle_message = function(fig, msg) {\n",
       "    fig.message.textContent = msg['message'];\n",
       "}\n",
       "\n",
       "mpl.figure.prototype.handle_draw = function(fig, msg) {\n",
       "    // Request the server to send over a new figure.\n",
       "    fig.send_draw_message();\n",
       "}\n",
       "\n",
       "mpl.figure.prototype.handle_image_mode = function(fig, msg) {\n",
       "    fig.image_mode = msg['mode'];\n",
       "}\n",
       "\n",
       "mpl.figure.prototype.updated_canvas_event = function() {\n",
       "    // Called whenever the canvas gets updated.\n",
       "    this.send_message(\"ack\", {});\n",
       "}\n",
       "\n",
       "// A function to construct a web socket function for onmessage handling.\n",
       "// Called in the figure constructor.\n",
       "mpl.figure.prototype._make_on_message_function = function(fig) {\n",
       "    return function socket_on_message(evt) {\n",
       "        if (evt.data instanceof Blob) {\n",
       "            /* FIXME: We get \"Resource interpreted as Image but\n",
       "             * transferred with MIME type text/plain:\" errors on\n",
       "             * Chrome.  But how to set the MIME type?  It doesn't seem\n",
       "             * to be part of the websocket stream */\n",
       "            evt.data.type = \"image/png\";\n",
       "\n",
       "            /* Free the memory for the previous frames */\n",
       "            if (fig.imageObj.src) {\n",
       "                (window.URL || window.webkitURL).revokeObjectURL(\n",
       "                    fig.imageObj.src);\n",
       "            }\n",
       "\n",
       "            fig.imageObj.src = (window.URL || window.webkitURL).createObjectURL(\n",
       "                evt.data);\n",
       "            fig.updated_canvas_event();\n",
       "            fig.waiting = false;\n",
       "            return;\n",
       "        }\n",
       "        else if (typeof evt.data === 'string' && evt.data.slice(0, 21) == \"data:image/png;base64\") {\n",
       "            fig.imageObj.src = evt.data;\n",
       "            fig.updated_canvas_event();\n",
       "            fig.waiting = false;\n",
       "            return;\n",
       "        }\n",
       "\n",
       "        var msg = JSON.parse(evt.data);\n",
       "        var msg_type = msg['type'];\n",
       "\n",
       "        // Call the  \"handle_{type}\" callback, which takes\n",
       "        // the figure and JSON message as its only arguments.\n",
       "        try {\n",
       "            var callback = fig[\"handle_\" + msg_type];\n",
       "        } catch (e) {\n",
       "            console.log(\"No handler for the '\" + msg_type + \"' message type: \", msg);\n",
       "            return;\n",
       "        }\n",
       "\n",
       "        if (callback) {\n",
       "            try {\n",
       "                // console.log(\"Handling '\" + msg_type + \"' message: \", msg);\n",
       "                callback(fig, msg);\n",
       "            } catch (e) {\n",
       "                console.log(\"Exception inside the 'handler_\" + msg_type + \"' callback:\", e, e.stack, msg);\n",
       "            }\n",
       "        }\n",
       "    };\n",
       "}\n",
       "\n",
       "// from http://stackoverflow.com/questions/1114465/getting-mouse-location-in-canvas\n",
       "mpl.findpos = function(e) {\n",
       "    //this section is from http://www.quirksmode.org/js/events_properties.html\n",
       "    var targ;\n",
       "    if (!e)\n",
       "        e = window.event;\n",
       "    if (e.target)\n",
       "        targ = e.target;\n",
       "    else if (e.srcElement)\n",
       "        targ = e.srcElement;\n",
       "    if (targ.nodeType == 3) // defeat Safari bug\n",
       "        targ = targ.parentNode;\n",
       "\n",
       "    // jQuery normalizes the pageX and pageY\n",
       "    // pageX,Y are the mouse positions relative to the document\n",
       "    // offset() returns the position of the element relative to the document\n",
       "    var x = e.pageX - $(targ).offset().left;\n",
       "    var y = e.pageY - $(targ).offset().top;\n",
       "\n",
       "    return {\"x\": x, \"y\": y};\n",
       "};\n",
       "\n",
       "/*\n",
       " * return a copy of an object with only non-object keys\n",
       " * we need this to avoid circular references\n",
       " * http://stackoverflow.com/a/24161582/3208463\n",
       " */\n",
       "function simpleKeys (original) {\n",
       "  return Object.keys(original).reduce(function (obj, key) {\n",
       "    if (typeof original[key] !== 'object')\n",
       "        obj[key] = original[key]\n",
       "    return obj;\n",
       "  }, {});\n",
       "}\n",
       "\n",
       "mpl.figure.prototype.mouse_event = function(event, name) {\n",
       "    var canvas_pos = mpl.findpos(event)\n",
       "\n",
       "    if (name === 'button_press')\n",
       "    {\n",
       "        this.canvas.focus();\n",
       "        this.canvas_div.focus();\n",
       "    }\n",
       "\n",
       "    var x = canvas_pos.x * mpl.ratio;\n",
       "    var y = canvas_pos.y * mpl.ratio;\n",
       "\n",
       "    this.send_message(name, {x: x, y: y, button: event.button,\n",
       "                             step: event.step,\n",
       "                             guiEvent: simpleKeys(event)});\n",
       "\n",
       "    /* This prevents the web browser from automatically changing to\n",
       "     * the text insertion cursor when the button is pressed.  We want\n",
       "     * to control all of the cursor setting manually through the\n",
       "     * 'cursor' event from matplotlib */\n",
       "    event.preventDefault();\n",
       "    return false;\n",
       "}\n",
       "\n",
       "mpl.figure.prototype._key_event_extra = function(event, name) {\n",
       "    // Handle any extra behaviour associated with a key event\n",
       "}\n",
       "\n",
       "mpl.figure.prototype.key_event = function(event, name) {\n",
       "\n",
       "    // Prevent repeat events\n",
       "    if (name == 'key_press')\n",
       "    {\n",
       "        if (event.which === this._key)\n",
       "            return;\n",
       "        else\n",
       "            this._key = event.which;\n",
       "    }\n",
       "    if (name == 'key_release')\n",
       "        this._key = null;\n",
       "\n",
       "    var value = '';\n",
       "    if (event.ctrlKey && event.which != 17)\n",
       "        value += \"ctrl+\";\n",
       "    if (event.altKey && event.which != 18)\n",
       "        value += \"alt+\";\n",
       "    if (event.shiftKey && event.which != 16)\n",
       "        value += \"shift+\";\n",
       "\n",
       "    value += 'k';\n",
       "    value += event.which.toString();\n",
       "\n",
       "    this._key_event_extra(event, name);\n",
       "\n",
       "    this.send_message(name, {key: value,\n",
       "                             guiEvent: simpleKeys(event)});\n",
       "    return false;\n",
       "}\n",
       "\n",
       "mpl.figure.prototype.toolbar_button_onclick = function(name) {\n",
       "    if (name == 'download') {\n",
       "        this.handle_save(this, null);\n",
       "    } else {\n",
       "        this.send_message(\"toolbar_button\", {name: name});\n",
       "    }\n",
       "};\n",
       "\n",
       "mpl.figure.prototype.toolbar_button_onmouseover = function(tooltip) {\n",
       "    this.message.textContent = tooltip;\n",
       "};\n",
       "mpl.toolbar_items = [[\"Home\", \"Reset original view\", \"fa fa-home icon-home\", \"home\"], [\"Back\", \"Back to  previous view\", \"fa fa-arrow-left icon-arrow-left\", \"back\"], [\"Forward\", \"Forward to next view\", \"fa fa-arrow-right icon-arrow-right\", \"forward\"], [\"\", \"\", \"\", \"\"], [\"Pan\", \"Pan axes with left mouse, zoom with right\", \"fa fa-arrows icon-move\", \"pan\"], [\"Zoom\", \"Zoom to rectangle\", \"fa fa-square-o icon-check-empty\", \"zoom\"], [\"\", \"\", \"\", \"\"], [\"Download\", \"Download plot\", \"fa fa-floppy-o icon-save\", \"download\"]];\n",
       "\n",
       "mpl.extensions = [\"eps\", \"jpeg\", \"pdf\", \"png\", \"ps\", \"raw\", \"svg\", \"tif\"];\n",
       "\n",
       "mpl.default_extension = \"png\";var comm_websocket_adapter = function(comm) {\n",
       "    // Create a \"websocket\"-like object which calls the given IPython comm\n",
       "    // object with the appropriate methods. Currently this is a non binary\n",
       "    // socket, so there is still some room for performance tuning.\n",
       "    var ws = {};\n",
       "\n",
       "    ws.close = function() {\n",
       "        comm.close()\n",
       "    };\n",
       "    ws.send = function(m) {\n",
       "        //console.log('sending', m);\n",
       "        comm.send(m);\n",
       "    };\n",
       "    // Register the callback with on_msg.\n",
       "    comm.on_msg(function(msg) {\n",
       "        //console.log('receiving', msg['content']['data'], msg);\n",
       "        // Pass the mpl event to the overridden (by mpl) onmessage function.\n",
       "        ws.onmessage(msg['content']['data'])\n",
       "    });\n",
       "    return ws;\n",
       "}\n",
       "\n",
       "mpl.mpl_figure_comm = function(comm, msg) {\n",
       "    // This is the function which gets called when the mpl process\n",
       "    // starts-up an IPython Comm through the \"matplotlib\" channel.\n",
       "\n",
       "    var id = msg.content.data.id;\n",
       "    // Get hold of the div created by the display call when the Comm\n",
       "    // socket was opened in Python.\n",
       "    var element = $(\"#\" + id);\n",
       "    var ws_proxy = comm_websocket_adapter(comm)\n",
       "\n",
       "    function ondownload(figure, format) {\n",
       "        window.open(figure.imageObj.src);\n",
       "    }\n",
       "\n",
       "    var fig = new mpl.figure(id, ws_proxy,\n",
       "                           ondownload,\n",
       "                           element.get(0));\n",
       "\n",
       "    // Call onopen now - mpl needs it, as it is assuming we've passed it a real\n",
       "    // web socket which is closed, not our websocket->open comm proxy.\n",
       "    ws_proxy.onopen();\n",
       "\n",
       "    fig.parent_element = element.get(0);\n",
       "    fig.cell_info = mpl.find_output_cell(\"<div id='\" + id + \"'></div>\");\n",
       "    if (!fig.cell_info) {\n",
       "        console.error(\"Failed to find cell for figure\", id, fig);\n",
       "        return;\n",
       "    }\n",
       "\n",
       "    var output_index = fig.cell_info[2]\n",
       "    var cell = fig.cell_info[0];\n",
       "\n",
       "};\n",
       "\n",
       "mpl.figure.prototype.handle_close = function(fig, msg) {\n",
       "    var width = fig.canvas.width/mpl.ratio\n",
       "    fig.root.unbind('remove')\n",
       "\n",
       "    // Update the output cell to use the data from the current canvas.\n",
       "    fig.push_to_output();\n",
       "    var dataURL = fig.canvas.toDataURL();\n",
       "    // Re-enable the keyboard manager in IPython - without this line, in FF,\n",
       "    // the notebook keyboard shortcuts fail.\n",
       "    IPython.keyboard_manager.enable()\n",
       "    $(fig.parent_element).html('<img src=\"' + dataURL + '\" width=\"' + width + '\">');\n",
       "    fig.close_ws(fig, msg);\n",
       "}\n",
       "\n",
       "mpl.figure.prototype.close_ws = function(fig, msg){\n",
       "    fig.send_message('closing', msg);\n",
       "    // fig.ws.close()\n",
       "}\n",
       "\n",
       "mpl.figure.prototype.push_to_output = function(remove_interactive) {\n",
       "    // Turn the data on the canvas into data in the output cell.\n",
       "    var width = this.canvas.width/mpl.ratio\n",
       "    var dataURL = this.canvas.toDataURL();\n",
       "    this.cell_info[1]['text/html'] = '<img src=\"' + dataURL + '\" width=\"' + width + '\">';\n",
       "}\n",
       "\n",
       "mpl.figure.prototype.updated_canvas_event = function() {\n",
       "    // Tell IPython that the notebook contents must change.\n",
       "    IPython.notebook.set_dirty(true);\n",
       "    this.send_message(\"ack\", {});\n",
       "    var fig = this;\n",
       "    // Wait a second, then push the new image to the DOM so\n",
       "    // that it is saved nicely (might be nice to debounce this).\n",
       "    setTimeout(function () { fig.push_to_output() }, 1000);\n",
       "}\n",
       "\n",
       "mpl.figure.prototype._init_toolbar = function() {\n",
       "    var fig = this;\n",
       "\n",
       "    var nav_element = $('<div/>')\n",
       "    nav_element.attr('style', 'width: 100%');\n",
       "    this.root.append(nav_element);\n",
       "\n",
       "    // Define a callback function for later on.\n",
       "    function toolbar_event(event) {\n",
       "        return fig.toolbar_button_onclick(event['data']);\n",
       "    }\n",
       "    function toolbar_mouse_event(event) {\n",
       "        return fig.toolbar_button_onmouseover(event['data']);\n",
       "    }\n",
       "\n",
       "    for(var toolbar_ind in mpl.toolbar_items){\n",
       "        var name = mpl.toolbar_items[toolbar_ind][0];\n",
       "        var tooltip = mpl.toolbar_items[toolbar_ind][1];\n",
       "        var image = mpl.toolbar_items[toolbar_ind][2];\n",
       "        var method_name = mpl.toolbar_items[toolbar_ind][3];\n",
       "\n",
       "        if (!name) { continue; };\n",
       "\n",
       "        var button = $('<button class=\"btn btn-default\" href=\"#\" title=\"' + name + '\"><i class=\"fa ' + image + ' fa-lg\"></i></button>');\n",
       "        button.click(method_name, toolbar_event);\n",
       "        button.mouseover(tooltip, toolbar_mouse_event);\n",
       "        nav_element.append(button);\n",
       "    }\n",
       "\n",
       "    // Add the status bar.\n",
       "    var status_bar = $('<span class=\"mpl-message\" style=\"text-align:right; float: right;\"/>');\n",
       "    nav_element.append(status_bar);\n",
       "    this.message = status_bar[0];\n",
       "\n",
       "    // Add the close button to the window.\n",
       "    var buttongrp = $('<div class=\"btn-group inline pull-right\"></div>');\n",
       "    var button = $('<button class=\"btn btn-mini btn-primary\" href=\"#\" title=\"Stop Interaction\"><i class=\"fa fa-power-off icon-remove icon-large\"></i></button>');\n",
       "    button.click(function (evt) { fig.handle_close(fig, {}); } );\n",
       "    button.mouseover('Stop Interaction', toolbar_mouse_event);\n",
       "    buttongrp.append(button);\n",
       "    var titlebar = this.root.find($('.ui-dialog-titlebar'));\n",
       "    titlebar.prepend(buttongrp);\n",
       "}\n",
       "\n",
       "mpl.figure.prototype._root_extra_style = function(el){\n",
       "    var fig = this\n",
       "    el.on(\"remove\", function(){\n",
       "\tfig.close_ws(fig, {});\n",
       "    });\n",
       "}\n",
       "\n",
       "mpl.figure.prototype._canvas_extra_style = function(el){\n",
       "    // this is important to make the div 'focusable\n",
       "    el.attr('tabindex', 0)\n",
       "    // reach out to IPython and tell the keyboard manager to turn it's self\n",
       "    // off when our div gets focus\n",
       "\n",
       "    // location in version 3\n",
       "    if (IPython.notebook.keyboard_manager) {\n",
       "        IPython.notebook.keyboard_manager.register_events(el);\n",
       "    }\n",
       "    else {\n",
       "        // location in version 2\n",
       "        IPython.keyboard_manager.register_events(el);\n",
       "    }\n",
       "\n",
       "}\n",
       "\n",
       "mpl.figure.prototype._key_event_extra = function(event, name) {\n",
       "    var manager = IPython.notebook.keyboard_manager;\n",
       "    if (!manager)\n",
       "        manager = IPython.keyboard_manager;\n",
       "\n",
       "    // Check for shift+enter\n",
       "    if (event.shiftKey && event.which == 13) {\n",
       "        this.canvas_div.blur();\n",
       "        event.shiftKey = false;\n",
       "        // Send a \"J\" for go to next cell\n",
       "        event.which = 74;\n",
       "        event.keyCode = 74;\n",
       "        manager.command_mode();\n",
       "        manager.handle_keydown(event);\n",
       "    }\n",
       "}\n",
       "\n",
       "mpl.figure.prototype.handle_save = function(fig, msg) {\n",
       "    fig.ondownload(fig, null);\n",
       "}\n",
       "\n",
       "\n",
       "mpl.find_output_cell = function(html_output) {\n",
       "    // Return the cell and output element which can be found *uniquely* in the notebook.\n",
       "    // Note - this is a bit hacky, but it is done because the \"notebook_saving.Notebook\"\n",
       "    // IPython event is triggered only after the cells have been serialised, which for\n",
       "    // our purposes (turning an active figure into a static one), is too late.\n",
       "    var cells = IPython.notebook.get_cells();\n",
       "    var ncells = cells.length;\n",
       "    for (var i=0; i<ncells; i++) {\n",
       "        var cell = cells[i];\n",
       "        if (cell.cell_type === 'code'){\n",
       "            for (var j=0; j<cell.output_area.outputs.length; j++) {\n",
       "                var data = cell.output_area.outputs[j];\n",
       "                if (data.data) {\n",
       "                    // IPython >= 3 moved mimebundle to data attribute of output\n",
       "                    data = data.data;\n",
       "                }\n",
       "                if (data['text/html'] == html_output) {\n",
       "                    return [cell, data, j];\n",
       "                }\n",
       "            }\n",
       "        }\n",
       "    }\n",
       "}\n",
       "\n",
       "// Register the function which deals with the matplotlib target/channel.\n",
       "// The kernel may be null if the page has been refreshed.\n",
       "if (IPython.notebook.kernel != null) {\n",
       "    IPython.notebook.kernel.comm_manager.register_target('matplotlib', mpl.mpl_figure_comm);\n",
       "}\n"
      ],
      "text/plain": [
       "<IPython.core.display.Javascript object>"
      ]
     },
     "metadata": {},
     "output_type": "display_data"
    },
    {
     "data": {
      "text/html": [
       "<img src=\"data:image/png;base64,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\" width=\"639.0476480687299\">"
      ],
      "text/plain": [
       "<IPython.core.display.HTML object>"
      ]
     },
     "metadata": {},
     "output_type": "display_data"
    },
    {
     "data": {
      "text/plain": [
       "(array([7.0000e+00, 6.0000e+00, 2.0000e+01, 6.5000e+01, 9.4000e+01,\n",
       "        1.4200e+02, 2.9400e+02, 5.2600e+02, 1.2510e+03, 1.8450e+03,\n",
       "        2.5780e+03, 4.0870e+03, 6.1890e+03, 9.6500e+03, 1.3745e+04,\n",
       "        1.8366e+04, 2.0310e+04, 2.0773e+04, 1.9382e+04, 1.8784e+04,\n",
       "        1.5915e+04, 1.1254e+04, 7.5250e+03, 4.9470e+03, 2.8290e+03,\n",
       "        1.4590e+03, 7.4800e+02, 2.2800e+02, 8.4000e+01, 3.9000e+01]),\n",
       " array([33.        , 35.03333333, 37.06666667, 39.1       , 41.13333333,\n",
       "        43.16666667, 45.2       , 47.23333333, 49.26666667, 51.3       ,\n",
       "        53.33333333, 55.36666667, 57.4       , 59.43333333, 61.46666667,\n",
       "        63.5       , 65.53333333, 67.56666667, 69.6       , 71.63333333,\n",
       "        73.66666667, 75.7       , 77.73333333, 79.76666667, 81.8       ,\n",
       "        83.83333333, 85.86666667, 87.9       , 89.93333333, 91.96666667,\n",
       "        94.        ]),\n",
       " <a list of 30 Patch objects>)"
      ]
     },
     "execution_count": 14,
     "metadata": {},
     "output_type": "execute_result"
    }
   ],
   "source": [
    "plt.hist(target, 30, range=(33, 94),color='green')"
   ]
  },
  {
   "cell_type": "markdown",
   "metadata": {},
   "source": [
    "almost normal distribution so we can impute mean value for missing value in target."
   ]
  },
  {
   "cell_type": "code",
   "execution_count": 15,
   "metadata": {},
   "outputs": [],
   "source": [
    "y = target.fillna(target.mean())"
   ]
  },
  {
   "cell_type": "code",
   "execution_count": 16,
   "metadata": {},
   "outputs": [
    {
     "data": {
      "text/plain": [
       "False"
      ]
     },
     "execution_count": 16,
     "metadata": {},
     "output_type": "execute_result"
    }
   ],
   "source": [
    "y.isnull().values.any()"
   ]
  },
  {
   "cell_type": "markdown",
   "metadata": {},
   "source": [
    "#  Data Exploration :"
   ]
  },
  {
   "cell_type": "code",
   "execution_count": 17,
   "metadata": {},
   "outputs": [
    {
     "data": {
      "text/plain": [
       "Index(['id', 'player_fifa_api_id', 'player_api_id', 'date', 'potential',\n",
       "       'preferred_foot', 'attacking_work_rate', 'defensive_work_rate',\n",
       "       'crossing', 'finishing', 'heading_accuracy', 'short_passing', 'volleys',\n",
       "       'dribbling', 'curve', 'free_kick_accuracy', 'long_passing',\n",
       "       'ball_control', 'acceleration', 'sprint_speed', 'agility', 'reactions',\n",
       "       'balance', 'shot_power', 'jumping', 'stamina', 'strength', 'long_shots',\n",
       "       'aggression', 'interceptions', 'positioning', 'vision', 'penalties',\n",
       "       'marking', 'standing_tackle', 'sliding_tackle', 'gk_diving',\n",
       "       'gk_handling', 'gk_kicking', 'gk_positioning', 'gk_reflexes'],\n",
       "      dtype='object')"
      ]
     },
     "execution_count": 17,
     "metadata": {},
     "output_type": "execute_result"
    }
   ],
   "source": [
    "df.columns"
   ]
  },
  {
   "cell_type": "code",
   "execution_count": 18,
   "metadata": {},
   "outputs": [
    {
     "name": "stdout",
     "output_type": "stream",
     "text": [
      "id--> 183978..int64\n",
      "player_fifa_api_id--> 11062..int64\n",
      "player_api_id--> 11060..int64\n",
      "date--> 197..object\n",
      "potential--> 57..float64\n",
      "preferred_foot--> 3..object\n",
      "attacking_work_rate--> 9..object\n",
      "defensive_work_rate--> 20..object\n",
      "crossing--> 96..float64\n",
      "finishing--> 98..float64\n",
      "heading_accuracy--> 97..float64\n",
      "short_passing--> 96..float64\n",
      "volleys--> 94..float64\n",
      "dribbling--> 98..float64\n",
      "curve--> 93..float64\n",
      "free_kick_accuracy--> 98..float64\n",
      "long_passing--> 96..float64\n",
      "ball_control--> 94..float64\n",
      "acceleration--> 87..float64\n",
      "sprint_speed--> 86..float64\n",
      "agility--> 82..float64\n",
      "reactions--> 79..float64\n",
      "balance--> 82..float64\n",
      "shot_power--> 97..float64\n",
      "jumping--> 80..float64\n",
      "stamina--> 85..float64\n",
      "strength--> 83..float64\n",
      "long_shots--> 97..float64\n",
      "aggression--> 92..float64\n",
      "interceptions--> 97..float64\n",
      "positioning--> 96..float64\n",
      "vision--> 98..float64\n",
      "penalties--> 95..float64\n",
      "marking--> 96..float64\n",
      "standing_tackle--> 96..float64\n",
      "sliding_tackle--> 95..float64\n",
      "gk_diving--> 94..float64\n",
      "gk_handling--> 91..float64\n",
      "gk_kicking--> 98..float64\n",
      "gk_positioning--> 95..float64\n",
      "gk_reflexes--> 93..float64\n"
     ]
    }
   ],
   "source": [
    "for col in df.columns:\n",
    "    unique_cat = len(df[col].unique())\n",
    "    print(\"{col}--> {unique_cat}..{typ}\".format(col=col, unique_cat=unique_cat, typ=df[col].dtype))"
   ]
  },
  {
   "cell_type": "markdown",
   "metadata": {},
   "source": [
    "Doing One Hot encoding on object features except date feature"
   ]
  },
  {
   "cell_type": "code",
   "execution_count": 19,
   "metadata": {},
   "outputs": [
    {
     "data": {
      "text/html": [
       "<div>\n",
       "<style scoped>\n",
       "    .dataframe tbody tr th:only-of-type {\n",
       "        vertical-align: middle;\n",
       "    }\n",
       "\n",
       "    .dataframe tbody tr th {\n",
       "        vertical-align: top;\n",
       "    }\n",
       "\n",
       "    .dataframe thead th {\n",
       "        text-align: right;\n",
       "    }\n",
       "</style>\n",
       "<table border=\"1\" class=\"dataframe\">\n",
       "  <thead>\n",
       "    <tr style=\"text-align: right;\">\n",
       "      <th></th>\n",
       "      <th>id</th>\n",
       "      <th>player_fifa_api_id</th>\n",
       "      <th>player_api_id</th>\n",
       "      <th>date</th>\n",
       "      <th>potential</th>\n",
       "      <th>crossing</th>\n",
       "      <th>finishing</th>\n",
       "      <th>heading_accuracy</th>\n",
       "      <th>short_passing</th>\n",
       "      <th>volleys</th>\n",
       "      <th>...</th>\n",
       "      <th>defensive_work_rate_9</th>\n",
       "      <th>defensive_work_rate__0</th>\n",
       "      <th>defensive_work_rate_ean</th>\n",
       "      <th>defensive_work_rate_es</th>\n",
       "      <th>defensive_work_rate_high</th>\n",
       "      <th>defensive_work_rate_low</th>\n",
       "      <th>defensive_work_rate_medium</th>\n",
       "      <th>defensive_work_rate_o</th>\n",
       "      <th>defensive_work_rate_ormal</th>\n",
       "      <th>defensive_work_rate_tocky</th>\n",
       "    </tr>\n",
       "  </thead>\n",
       "  <tbody>\n",
       "    <tr>\n",
       "      <th>0</th>\n",
       "      <td>1</td>\n",
       "      <td>218353</td>\n",
       "      <td>505942</td>\n",
       "      <td>2016-02-18 00:00:00</td>\n",
       "      <td>71.0</td>\n",
       "      <td>49.0</td>\n",
       "      <td>44.0</td>\n",
       "      <td>71.0</td>\n",
       "      <td>61.0</td>\n",
       "      <td>44.0</td>\n",
       "      <td>...</td>\n",
       "      <td>0</td>\n",
       "      <td>0</td>\n",
       "      <td>0</td>\n",
       "      <td>0</td>\n",
       "      <td>0</td>\n",
       "      <td>0</td>\n",
       "      <td>1</td>\n",
       "      <td>0</td>\n",
       "      <td>0</td>\n",
       "      <td>0</td>\n",
       "    </tr>\n",
       "    <tr>\n",
       "      <th>1</th>\n",
       "      <td>2</td>\n",
       "      <td>218353</td>\n",
       "      <td>505942</td>\n",
       "      <td>2015-11-19 00:00:00</td>\n",
       "      <td>71.0</td>\n",
       "      <td>49.0</td>\n",
       "      <td>44.0</td>\n",
       "      <td>71.0</td>\n",
       "      <td>61.0</td>\n",
       "      <td>44.0</td>\n",
       "      <td>...</td>\n",
       "      <td>0</td>\n",
       "      <td>0</td>\n",
       "      <td>0</td>\n",
       "      <td>0</td>\n",
       "      <td>0</td>\n",
       "      <td>0</td>\n",
       "      <td>1</td>\n",
       "      <td>0</td>\n",
       "      <td>0</td>\n",
       "      <td>0</td>\n",
       "    </tr>\n",
       "    <tr>\n",
       "      <th>2</th>\n",
       "      <td>3</td>\n",
       "      <td>218353</td>\n",
       "      <td>505942</td>\n",
       "      <td>2015-09-21 00:00:00</td>\n",
       "      <td>66.0</td>\n",
       "      <td>49.0</td>\n",
       "      <td>44.0</td>\n",
       "      <td>71.0</td>\n",
       "      <td>61.0</td>\n",
       "      <td>44.0</td>\n",
       "      <td>...</td>\n",
       "      <td>0</td>\n",
       "      <td>0</td>\n",
       "      <td>0</td>\n",
       "      <td>0</td>\n",
       "      <td>0</td>\n",
       "      <td>0</td>\n",
       "      <td>1</td>\n",
       "      <td>0</td>\n",
       "      <td>0</td>\n",
       "      <td>0</td>\n",
       "    </tr>\n",
       "    <tr>\n",
       "      <th>3</th>\n",
       "      <td>4</td>\n",
       "      <td>218353</td>\n",
       "      <td>505942</td>\n",
       "      <td>2015-03-20 00:00:00</td>\n",
       "      <td>65.0</td>\n",
       "      <td>48.0</td>\n",
       "      <td>43.0</td>\n",
       "      <td>70.0</td>\n",
       "      <td>60.0</td>\n",
       "      <td>43.0</td>\n",
       "      <td>...</td>\n",
       "      <td>0</td>\n",
       "      <td>0</td>\n",
       "      <td>0</td>\n",
       "      <td>0</td>\n",
       "      <td>0</td>\n",
       "      <td>0</td>\n",
       "      <td>1</td>\n",
       "      <td>0</td>\n",
       "      <td>0</td>\n",
       "      <td>0</td>\n",
       "    </tr>\n",
       "    <tr>\n",
       "      <th>4</th>\n",
       "      <td>5</td>\n",
       "      <td>218353</td>\n",
       "      <td>505942</td>\n",
       "      <td>2007-02-22 00:00:00</td>\n",
       "      <td>65.0</td>\n",
       "      <td>48.0</td>\n",
       "      <td>43.0</td>\n",
       "      <td>70.0</td>\n",
       "      <td>60.0</td>\n",
       "      <td>43.0</td>\n",
       "      <td>...</td>\n",
       "      <td>0</td>\n",
       "      <td>0</td>\n",
       "      <td>0</td>\n",
       "      <td>0</td>\n",
       "      <td>0</td>\n",
       "      <td>0</td>\n",
       "      <td>1</td>\n",
       "      <td>0</td>\n",
       "      <td>0</td>\n",
       "      <td>0</td>\n",
       "    </tr>\n",
       "  </tbody>\n",
       "</table>\n",
       "<p>5 rows × 67 columns</p>\n",
       "</div>"
      ],
      "text/plain": [
       "   id  player_fifa_api_id  player_api_id                 date  potential  \\\n",
       "0   1              218353         505942  2016-02-18 00:00:00       71.0   \n",
       "1   2              218353         505942  2015-11-19 00:00:00       71.0   \n",
       "2   3              218353         505942  2015-09-21 00:00:00       66.0   \n",
       "3   4              218353         505942  2015-03-20 00:00:00       65.0   \n",
       "4   5              218353         505942  2007-02-22 00:00:00       65.0   \n",
       "\n",
       "   crossing  finishing  heading_accuracy  short_passing  volleys  \\\n",
       "0      49.0       44.0              71.0           61.0     44.0   \n",
       "1      49.0       44.0              71.0           61.0     44.0   \n",
       "2      49.0       44.0              71.0           61.0     44.0   \n",
       "3      48.0       43.0              70.0           60.0     43.0   \n",
       "4      48.0       43.0              70.0           60.0     43.0   \n",
       "\n",
       "             ...              defensive_work_rate_9  defensive_work_rate__0  \\\n",
       "0            ...                                  0                       0   \n",
       "1            ...                                  0                       0   \n",
       "2            ...                                  0                       0   \n",
       "3            ...                                  0                       0   \n",
       "4            ...                                  0                       0   \n",
       "\n",
       "   defensive_work_rate_ean  defensive_work_rate_es  defensive_work_rate_high  \\\n",
       "0                        0                       0                         0   \n",
       "1                        0                       0                         0   \n",
       "2                        0                       0                         0   \n",
       "3                        0                       0                         0   \n",
       "4                        0                       0                         0   \n",
       "\n",
       "   defensive_work_rate_low  defensive_work_rate_medium  defensive_work_rate_o  \\\n",
       "0                        0                           1                      0   \n",
       "1                        0                           1                      0   \n",
       "2                        0                           1                      0   \n",
       "3                        0                           1                      0   \n",
       "4                        0                           1                      0   \n",
       "\n",
       "   defensive_work_rate_ormal  defensive_work_rate_tocky  \n",
       "0                          0                          0  \n",
       "1                          0                          0  \n",
       "2                          0                          0  \n",
       "3                          0                          0  \n",
       "4                          0                          0  \n",
       "\n",
       "[5 rows x 67 columns]"
      ]
     },
     "execution_count": 19,
     "metadata": {},
     "output_type": "execute_result"
    }
   ],
   "source": [
    "dummy_df = pd.get_dummies(df, columns=['preferred_foot', 'attacking_work_rate', 'defensive_work_rate'])\n",
    "dummy_df.head()"
   ]
  },
  {
   "cell_type": "code",
   "execution_count": 20,
   "metadata": {},
   "outputs": [],
   "source": [
    "X = dummy_df.drop(['id', 'date'], axis=1)"
   ]
  },
  {
   "cell_type": "markdown",
   "metadata": {},
   "source": [
    "### Feature selection :"
   ]
  },
  {
   "cell_type": "markdown",
   "metadata": {},
   "source": [
    "As tree model doesn't gets affected by missing values present in data set. but feature selection by SelectFromModel can not be done on datasets that carries null value. Therefore, we should also perform imputation on dataset"
   ]
  },
  {
   "cell_type": "code",
   "execution_count": 21,
   "metadata": {},
   "outputs": [],
   "source": [
    "X_train, X_test, y_train, y_test = train_test_split(X, y, test_size=0.25, random_state=42)"
   ]
  },
  {
   "cell_type": "code",
   "execution_count": 22,
   "metadata": {},
   "outputs": [],
   "source": [
    "#imputing null value of each column with the mean of that column\n",
    "imput = Imputer()\n",
    "X_train = imput.fit_transform(X_train)\n",
    "X_test = imput.fit_transform(X_test)"
   ]
  },
  {
   "cell_type": "code",
   "execution_count": 23,
   "metadata": {},
   "outputs": [
    {
     "name": "stdout",
     "output_type": "stream",
     "text": [
      "[0.01714286 0.02       0.10714286 0.02       0.04714286 0.03571429\n",
      " 0.03285714 0.         0.04       0.         0.         0.00714286\n",
      " 0.04714286 0.01       0.01571429 0.00142857 0.18571429 0.\n",
      " 0.01428571 0.00571429 0.00857143 0.03142857 0.00571429 0.00714286\n",
      " 0.01857143 0.01857143 0.00571429 0.         0.04285714 0.04571429\n",
      " 0.01       0.04571429 0.02571429 0.02428572 0.06       0.04285714\n",
      " 0.         0.         0.         0.         0.         0.\n",
      " 0.         0.         0.         0.         0.         0.\n",
      " 0.         0.         0.         0.         0.         0.\n",
      " 0.         0.         0.         0.         0.         0.\n",
      " 0.         0.         0.         0.         0.        ]\n"
     ]
    }
   ],
   "source": [
    "#finding feature_importance for feature selection. from it we'll be able to decide threshold value\n",
    "model = XGBRegressor()\n",
    "model.fit(X_train, y_train)\n",
    "print(model.feature_importances_)"
   ]
  },
  {
   "cell_type": "code",
   "execution_count": 24,
   "metadata": {},
   "outputs": [],
   "source": [
    "selection = SelectFromModel(model, threshold=0.01, prefit=True)\n",
    "\n",
    "select_X_train = selection.transform(X_train)\n",
    "select_X_test = selection.transform(X_test)"
   ]
  },
  {
   "cell_type": "code",
   "execution_count": 25,
   "metadata": {},
   "outputs": [
    {
     "data": {
      "text/plain": [
       "(137983, 24)"
      ]
     },
     "execution_count": 25,
     "metadata": {},
     "output_type": "execute_result"
    }
   ],
   "source": [
    "select_X_train.shape"
   ]
  },
  {
   "cell_type": "markdown",
   "metadata": {},
   "source": [
    "### Training different models :"
   ]
  },
  {
   "cell_type": "markdown",
   "metadata": {},
   "source": [
    "#### 1. Linear Regression"
   ]
  },
  {
   "cell_type": "code",
   "execution_count": 26,
   "metadata": {},
   "outputs": [],
   "source": [
    "pipe = make_pipeline(StandardScaler(),             #preprocessing(standard scalling)\n",
    "                     LinearRegression())           #estimator(linear regression)\n",
    "\n",
    "cv = ShuffleSplit(random_state=0)   #defining type of cross_validation(shuffle spliting)\n",
    "\n",
    "param_grid = {'linearregression__n_jobs': [-1]}     #parameters for model tunning\n",
    "\n",
    "grid = GridSearchCV(pipe, param_grid=param_grid, cv=cv)"
   ]
  },
  {
   "cell_type": "code",
   "execution_count": 27,
   "metadata": {},
   "outputs": [
    {
     "data": {
      "text/plain": [
       "GridSearchCV(cv=ShuffleSplit(n_splits=10, random_state=0, test_size='default',\n",
       "       train_size=None),\n",
       "       error_score='raise',\n",
       "       estimator=Pipeline(memory=None,\n",
       "     steps=[('standardscaler', StandardScaler(copy=True, with_mean=True, with_std=True)), ('linearregression', LinearRegression(copy_X=True, fit_intercept=True, n_jobs=1, normalize=False))]),\n",
       "       fit_params=None, iid=True, n_jobs=1,\n",
       "       param_grid={'linearregression__n_jobs': [-1]},\n",
       "       pre_dispatch='2*n_jobs', refit=True, return_train_score='warn',\n",
       "       scoring=None, verbose=0)"
      ]
     },
     "execution_count": 27,
     "metadata": {},
     "output_type": "execute_result"
    }
   ],
   "source": [
    "grid.fit(select_X_train, y_train)  "
   ]
  },
  {
   "cell_type": "code",
   "execution_count": 28,
   "metadata": {},
   "outputs": [
    {
     "data": {
      "text/plain": [
       "{'linearregression__n_jobs': -1}"
      ]
     },
     "execution_count": 28,
     "metadata": {},
     "output_type": "execute_result"
    }
   ],
   "source": [
    "grid.best_params_"
   ]
  },
  {
   "cell_type": "code",
   "execution_count": 29,
   "metadata": {},
   "outputs": [],
   "source": [
    "lin_reg = pickle.dumps(grid)"
   ]
  },
  {
   "cell_type": "markdown",
   "metadata": {},
   "source": [
    "#### Decision Tree"
   ]
  },
  {
   "cell_type": "code",
   "execution_count": 30,
   "metadata": {},
   "outputs": [],
   "source": [
    "pipe = make_pipeline(StandardScaler(),                  #preprocessing\n",
    "                     DecisionTreeRegressor(criterion='mse', random_state=0))          #estimator\n",
    "\n",
    "cv = ShuffleSplit(n_splits=10, random_state=42)        #cross validation\n",
    "\n",
    "param_grid = {'decisiontreeregressor__max_depth': [3, 5, 7, 9, 13]}\n",
    "\n",
    "grid = GridSearchCV(pipe, param_grid=param_grid, cv=cv)"
   ]
  },
  {
   "cell_type": "code",
   "execution_count": 31,
   "metadata": {},
   "outputs": [
    {
     "data": {
      "text/plain": [
       "GridSearchCV(cv=ShuffleSplit(n_splits=10, random_state=42, test_size='default',\n",
       "       train_size=None),\n",
       "       error_score='raise',\n",
       "       estimator=Pipeline(memory=None,\n",
       "     steps=[('standardscaler', StandardScaler(copy=True, with_mean=True, with_std=True)), ('decisiontreeregressor', DecisionTreeRegressor(criterion='mse', max_depth=None, max_features=None,\n",
       "           max_leaf_nodes=None, min_impurity_decrease=0.0,\n",
       "           min_impurity_split=None, min_samples_leaf=1,\n",
       "           min_samples_split=2, min_weight_fraction_leaf=0.0,\n",
       "           presort=False, random_state=0, splitter='best'))]),\n",
       "       fit_params=None, iid=True, n_jobs=1,\n",
       "       param_grid={'decisiontreeregressor__max_depth': [3, 5, 7, 9, 13]},\n",
       "       pre_dispatch='2*n_jobs', refit=True, return_train_score='warn',\n",
       "       scoring=None, verbose=0)"
      ]
     },
     "execution_count": 31,
     "metadata": {},
     "output_type": "execute_result"
    }
   ],
   "source": [
    "grid.fit(select_X_train, y_train)  "
   ]
  },
  {
   "cell_type": "code",
   "execution_count": 32,
   "metadata": {},
   "outputs": [
    {
     "data": {
      "text/plain": [
       "{'decisiontreeregressor__max_depth': 13}"
      ]
     },
     "execution_count": 32,
     "metadata": {},
     "output_type": "execute_result"
    }
   ],
   "source": [
    "grid.best_params_"
   ]
  },
  {
   "cell_type": "code",
   "execution_count": 33,
   "metadata": {},
   "outputs": [],
   "source": [
    "Dectree_reg = pickle.dumps(grid)"
   ]
  },
  {
   "cell_type": "markdown",
   "metadata": {},
   "source": [
    "#### 3. Random Forest"
   ]
  },
  {
   "cell_type": "code",
   "execution_count": 34,
   "metadata": {},
   "outputs": [],
   "source": [
    "pipe = make_pipeline(StandardScaler(),\n",
    "                     RandomForestRegressor(n_estimators=500, random_state=123))\n",
    "\n",
    "cv = ShuffleSplit(test_size=0.2, random_state=0)\n",
    "\n",
    "param_grid = {'randomforestregressor__max_features':['sqrt', 'log2', 10],\n",
    "              'randomforestregressor__max_depth':[9, 11, 13]}                 \n",
    "\n",
    "grid = GridSearchCV(pipe, param_grid=param_grid, cv=cv)"
   ]
  },
  {
   "cell_type": "code",
   "execution_count": 35,
   "metadata": {},
   "outputs": [
    {
     "data": {
      "text/plain": [
       "GridSearchCV(cv=ShuffleSplit(n_splits=10, random_state=0, test_size=0.2, train_size=None),\n",
       "       error_score='raise',\n",
       "       estimator=Pipeline(memory=None,\n",
       "     steps=[('standardscaler', StandardScaler(copy=True, with_mean=True, with_std=True)), ('randomforestregressor', RandomForestRegressor(bootstrap=True, criterion='mse', max_depth=None,\n",
       "           max_features='auto', max_leaf_nodes=None,\n",
       "           min_impurity_decr...imators=500, n_jobs=1,\n",
       "           oob_score=False, random_state=123, verbose=0, warm_start=False))]),\n",
       "       fit_params=None, iid=True, n_jobs=1,\n",
       "       param_grid={'randomforestregressor__max_features': ['sqrt', 'log2', 10], 'randomforestregressor__max_depth': [9, 11, 13]},\n",
       "       pre_dispatch='2*n_jobs', refit=True, return_train_score='warn',\n",
       "       scoring=None, verbose=0)"
      ]
     },
     "execution_count": 35,
     "metadata": {},
     "output_type": "execute_result"
    }
   ],
   "source": [
    "grid.fit(select_X_train, y_train)   "
   ]
  },
  {
   "cell_type": "code",
   "execution_count": 36,
   "metadata": {},
   "outputs": [
    {
     "data": {
      "text/plain": [
       "{'randomforestregressor__max_depth': 13,\n",
       " 'randomforestregressor__max_features': 10}"
      ]
     },
     "execution_count": 36,
     "metadata": {},
     "output_type": "execute_result"
    }
   ],
   "source": [
    "grid.best_params_"
   ]
  },
  {
   "cell_type": "code",
   "execution_count": 37,
   "metadata": {},
   "outputs": [],
   "source": [
    "Randfor_reg = pickle.dumps(grid)"
   ]
  },
  {
   "cell_type": "markdown",
   "metadata": {},
   "source": [
    "#### 4. Xgboost regressor "
   ]
  },
  {
   "cell_type": "code",
   "execution_count": 38,
   "metadata": {},
   "outputs": [],
   "source": [
    "pipe = make_pipeline(StandardScaler(),\n",
    "                     XGBRegressor(n_estimators= 500, random_state=42))\n",
    "\n",
    "cv = ShuffleSplit(n_splits=10, random_state=0)\n",
    "\n",
    "param_grid = {'xgbregressor__max_depth': [5, 7],\n",
    "              'xgbregressor__learning_rate': [0.1, 0.3]}\n",
    "\n",
    "grid = GridSearchCV(pipe, param_grid=param_grid, cv=cv, n_jobs= -1)"
   ]
  },
  {
   "cell_type": "code",
   "execution_count": 39,
   "metadata": {},
   "outputs": [
    {
     "data": {
      "text/plain": [
       "GridSearchCV(cv=ShuffleSplit(n_splits=10, random_state=0, test_size='default',\n",
       "       train_size=None),\n",
       "       error_score='raise',\n",
       "       estimator=Pipeline(memory=None,\n",
       "     steps=[('standardscaler', StandardScaler(copy=True, with_mean=True, with_std=True)), ('xgbregressor', XGBRegressor(base_score=0.5, booster='gbtree', colsample_bylevel=1,\n",
       "       colsample_bytree=1, gamma=0, learning_rate=0.1, max_delta_step=0,\n",
       "       max_depth=3, ...       reg_alpha=0, reg_lambda=1, scale_pos_weight=1, seed=None,\n",
       "       silent=True, subsample=1))]),\n",
       "       fit_params=None, iid=True, n_jobs=-1,\n",
       "       param_grid={'xgbregressor__max_depth': [5, 7], 'xgbregressor__learning_rate': [0.1, 0.3]},\n",
       "       pre_dispatch='2*n_jobs', refit=True, return_train_score='warn',\n",
       "       scoring=None, verbose=0)"
      ]
     },
     "execution_count": 39,
     "metadata": {},
     "output_type": "execute_result"
    }
   ],
   "source": [
    "grid.fit(select_X_train, y_train)"
   ]
  },
  {
   "cell_type": "code",
   "execution_count": 40,
   "metadata": {},
   "outputs": [
    {
     "data": {
      "text/plain": [
       "{'xgbregressor__learning_rate': 0.3, 'xgbregressor__max_depth': 7}"
      ]
     },
     "execution_count": 40,
     "metadata": {},
     "output_type": "execute_result"
    }
   ],
   "source": [
    "grid.best_params_"
   ]
  },
  {
   "cell_type": "code",
   "execution_count": 41,
   "metadata": {},
   "outputs": [],
   "source": [
    "xgbreg = pickle.dumps(grid)"
   ]
  },
  {
   "cell_type": "markdown",
   "metadata": {},
   "source": [
    "### Comparision between models"
   ]
  },
  {
   "cell_type": "code",
   "execution_count": 42,
   "metadata": {},
   "outputs": [],
   "source": [
    "lin_reg = pickle.loads(lin_reg)\n",
    "Dectree_reg = pickle.loads(Dectree_reg)\n",
    "Randfor_reg = pickle.loads(Randfor_reg)\n",
    "xgbreg = pickle.loads(xgbreg)"
   ]
  },
  {
   "cell_type": "code",
   "execution_count": 43,
   "metadata": {},
   "outputs": [
    {
     "name": "stdout",
     "output_type": "stream",
     "text": [
      "Linear Regressor accuracy is 0.8547439877398585\n",
      "DecisionTree Regressor accuracy is 0.9300656646020649\n",
      "RandomForest regressor accuracy is 0.9642395895691055\n",
      "XGBoost regressor accuracy is 0.9824157032610178\n"
     ]
    }
   ],
   "source": [
    "print(\"\"\"Linear Regressor accuracy is {lin}\n",
    "DecisionTree Regressor accuracy is {Dec}\n",
    "RandomForest regressor accuracy is {ran}\n",
    "XGBoost regressor accuracy is {xgb}\"\"\".format(lin=lin_reg.score(select_X_test, y_test),\n",
    "                                                       Dec=Dectree_reg.score(select_X_test, y_test),\n",
    "                                                       ran=Randfor_reg.score(select_X_test, y_test),\n",
    "                                                       xgb=xgbreg.score(select_X_test, y_test)))"
   ]
  },
  {
   "cell_type": "markdown",
   "metadata": {},
   "source": [
    "By accuracy comparision performed above we can say hear that XGBoost regressor gives better result than any other model. and it can predict the target function with approx 98% accuracy."
   ]
  },
  {
   "cell_type": "code",
   "execution_count": null,
   "metadata": {},
   "outputs": [],
   "source": []
  }
 ],
 "metadata": {
  "kernelspec": {
   "display_name": "Python 3",
   "language": "python",
   "name": "python3"
  },
  "language_info": {
   "codemirror_mode": {
    "name": "ipython",
    "version": 3
   },
   "file_extension": ".py",
   "mimetype": "text/x-python",
   "name": "python",
   "nbconvert_exporter": "python",
   "pygments_lexer": "ipython3",
   "version": "3.7.0"
  }
 },
 "nbformat": 4,
 "nbformat_minor": 2
}
